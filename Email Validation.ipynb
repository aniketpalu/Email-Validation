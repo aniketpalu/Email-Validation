{
 "cells": [
  {
   "cell_type": "code",
   "execution_count": 37,
   "metadata": {},
   "outputs": [],
   "source": [
    "import pandas as pd \n",
    "import numpy as np \n",
    "from difflib import SequenceMatcher\n",
    "from validate_email import validate_email"
   ]
  },
  {
   "cell_type": "code",
   "execution_count": 38,
   "metadata": {},
   "outputs": [],
   "source": [
    "Raw_Data_Path = 'C:\\\\Users\\\\Lenovo\\\\Desktop\\\\h.xlsx'\n",
    "\n",
    "Raw_Data = pd.read_excel(Raw_Data_Path, header = None)\n",
    "\n",
    "Count_of_invalid_email = 0"
   ]
  },
  {
   "cell_type": "code",
   "execution_count": 39,
   "metadata": {},
   "outputs": [
    {
     "data": {
      "text/plain": [
       "<bound method NDFrame.head of                                     0\n",
       "0            dinspra_1980@yahoo.co.in\n",
       "1                rahulbds07@yahoo.com\n",
       "2             nbisavailable@gmail.com\n",
       "3      priyeshkapasi_8765@yahoo.co.in\n",
       "4                 dileep307@gmail.com\n",
       "...                               ...\n",
       "40852             abdullakm@ymail.com\n",
       "40853          syamkrishnam@ymail.com\n",
       "40854             sijojosek@ymail.com\n",
       "40855         jojofinanceit@ymail.com\n",
       "40856               ajith_d@ymail.com\n",
       "\n",
       "[40857 rows x 1 columns]>"
      ]
     },
     "execution_count": 39,
     "metadata": {},
     "output_type": "execute_result"
    }
   ],
   "source": [
    "Raw_Data.head"
   ]
  },
  {
   "cell_type": "code",
   "execution_count": 40,
   "metadata": {},
   "outputs": [],
   "source": [
    "Validated_emails = []\n",
    "Invalid_emails = []"
   ]
  },
  {
   "cell_type": "code",
   "execution_count": 41,
   "metadata": {},
   "outputs": [],
   "source": [
    "def is_valid(email):\n",
    "    global Validated_emails\n",
    "    global Invalid_emails\n",
    "    global Count_of_invalid_email\n",
    "    if validate_email(email):\n",
    "        Validated_emails.append(email)\n",
    "    else:\n",
    "        Invalid_emails.append(email)\n",
    "        Count_of_invalid_email += 1"
   ]
  },
  {
   "cell_type": "code",
   "execution_count": 42,
   "metadata": {},
   "outputs": [],
   "source": [
    "for i in range(len(Raw_Data)):\n",
    "    try:\n",
    "        is_valid(Raw_Data[0][i])\n",
    "    except:\n",
    "        continue"
   ]
  },
  {
   "cell_type": "code",
   "execution_count": 43,
   "metadata": {},
   "outputs": [
    {
     "name": "stdout",
     "output_type": "stream",
     "text": [
      "40851\n"
     ]
    }
   ],
   "source": [
    "print(len(Validated_emails))"
   ]
  },
  {
   "cell_type": "code",
   "execution_count": 44,
   "metadata": {},
   "outputs": [
    {
     "name": "stdout",
     "output_type": "stream",
     "text": [
      "6\n"
     ]
    }
   ],
   "source": [
    "print(len(Invalid_emails))"
   ]
  },
  {
   "cell_type": "code",
   "execution_count": 45,
   "metadata": {},
   "outputs": [],
   "source": [
    "dict = {\n",
    "    \"Valid Email\" : Validated_emails\n",
    "}"
   ]
  },
  {
   "cell_type": "code",
   "execution_count": 46,
   "metadata": {},
   "outputs": [],
   "source": [
    "Final_DF = pd.DataFrame(dict)"
   ]
  },
  {
   "cell_type": "code",
   "execution_count": 47,
   "metadata": {},
   "outputs": [],
   "source": [
    "Final_DF.to_excel('C:\\\\Users\\\\Lenovo\\\\Desktop\\\\Valid EmailD.xlsx', header = None, index = None)"
   ]
  },
  {
   "cell_type": "code",
   "execution_count": 48,
   "metadata": {},
   "outputs": [],
   "source": [
    "dict2 = {\n",
    "    \"InValid Email\" : Invalid_emails\n",
    "}"
   ]
  },
  {
   "cell_type": "code",
   "execution_count": 49,
   "metadata": {},
   "outputs": [],
   "source": [
    "InvalidDF = pd.DataFrame(dict2)"
   ]
  },
  {
   "cell_type": "code",
   "execution_count": 50,
   "metadata": {},
   "outputs": [],
   "source": [
    "InvalidDF.to_excel('C:\\\\Users\\\\Lenovo\\\\Desktop\\\\InValid EmailD.xlsx', header = None, index = None)"
   ]
  },
  {
   "cell_type": "code",
   "execution_count": null,
   "metadata": {},
   "outputs": [],
   "source": []
  }
 ],
 "metadata": {
  "kernelspec": {
   "display_name": "Python 3",
   "language": "python",
   "name": "python3"
  },
  "language_info": {
   "codemirror_mode": {
    "name": "ipython",
    "version": 3
   },
   "file_extension": ".py",
   "mimetype": "text/x-python",
   "name": "python",
   "nbconvert_exporter": "python",
   "pygments_lexer": "ipython3",
   "version": "3.8.5"
  }
 },
 "nbformat": 4,
 "nbformat_minor": 4
}
